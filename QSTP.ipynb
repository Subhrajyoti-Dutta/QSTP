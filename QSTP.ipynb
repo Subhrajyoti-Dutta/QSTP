{
  "nbformat": 4,
  "nbformat_minor": 0,
  "metadata": {
    "colab": {
      "name": "QSTP.ipynb",
      "provenance": [],
      "collapsed_sections": [],
      "authorship_tag": "ABX9TyPMjinYG2owopm7Tfa083IM",
      "include_colab_link": true
    },
    "language_info": {
      "name": "python"
    },
    "kernelspec": {
      "name": "python3",
      "display_name": "Python 3"
    }
  },
  "cells": [
    {
      "cell_type": "markdown",
      "metadata": {
        "id": "view-in-github",
        "colab_type": "text"
      },
      "source": [
        "<a href=\"https://colab.research.google.com/github/Subhrajyoti-Dutta/QSTP/blob/main/QSTP.ipynb\" target=\"_parent\"><img src=\"https://colab.research.google.com/assets/colab-badge.svg\" alt=\"Open In Colab\"/></a>"
      ]
    },
    {
      "cell_type": "markdown",
      "metadata": {
        "id": "1OGsc0ahAY7V"
      },
      "source": [
        "#Import the Image Data"
      ]
    },
    {
      "cell_type": "code",
      "metadata": {
        "colab": {
          "base_uri": "https://localhost:8080/"
        },
        "id": "EpXSM5BHD4y1",
        "outputId": "4f3b196a-301d-48a7-a339-de7ab49e3df7"
      },
      "source": [
        "from google.colab import drive\n",
        "drive.mount('/content/drive')"
      ],
      "execution_count": 1,
      "outputs": [
        {
          "output_type": "stream",
          "text": [
            "Drive already mounted at /content/drive; to attempt to forcibly remount, call drive.mount(\"/content/drive\", force_remount=True).\n"
          ],
          "name": "stdout"
        }
      ]
    },
    {
      "cell_type": "code",
      "metadata": {
        "id": "hHCFjtcNEUw6"
      },
      "source": [
        "import os\n",
        "import numpy as np\n",
        "from PIL import Image\n",
        "import tensorflow as tf"
      ],
      "execution_count": 2,
      "outputs": []
    },
    {
      "cell_type": "code",
      "metadata": {
        "id": "WfImbZMM5yuc"
      },
      "source": [
        "def read_labels(path_to_labels):\n",
        "    with open(path_to_labels, 'rb') as f:\n",
        "        labels = np.fromfile(f, dtype=np.uint8)\n",
        "        return labels\n",
        "\n",
        "def read_images(path_to_data):\n",
        "    with open(path_to_data, 'rb') as f:\n",
        "        everything = np.fromfile(f, dtype=np.uint8)\n",
        "        images = np.reshape(everything, (-1, 3, 96, 96))\n",
        "        images = np.transpose(images, (0, 3, 2, 1))\n",
        "        return images"
      ],
      "execution_count": 3,
      "outputs": []
    },
    {
      "cell_type": "markdown",
      "metadata": {
        "id": "Vn36-ERs3LC1"
      },
      "source": [
        "##Retrieving training data"
      ]
    },
    {
      "cell_type": "code",
      "metadata": {
        "id": "8c4x85LoD5-z"
      },
      "source": [
        "path_to_train_imgs = r\"/content/drive/MyDrive/ML-AI/QSTP/train_X.bin\"\n",
        "path_to_train_labels = r\"/content/drive/MyDrive/ML-AI/QSTP/train_y.bin\""
      ],
      "execution_count": 4,
      "outputs": []
    },
    {
      "cell_type": "code",
      "metadata": {
        "id": "bAHHBGDB6LQy"
      },
      "source": [
        "Xtrain = read_images(path_to_train_imgs)\n",
        "Ytrain_labels = read_labels(path_to_train_labels) - 1\n",
        "Ytrain = np.zeros((5000,10),dtype=np.uint8)\n",
        "Ytrain[np.arange(5000).reshape(-1,1),Ytrain_labels.reshape(-1,1)] = 1"
      ],
      "execution_count": 5,
      "outputs": []
    },
    {
      "cell_type": "markdown",
      "metadata": {
        "id": "Gljk1_xD3QkN"
      },
      "source": [
        "##Retrieving test data"
      ]
    },
    {
      "cell_type": "code",
      "metadata": {
        "id": "Yt6izB7R06P8"
      },
      "source": [
        "path_to_test_imgs = r\"/content/drive/MyDrive/ML-AI/QSTP/test_X.bin\"\n",
        "path_to_test_labels = r\"/content/drive/MyDrive/ML-AI/QSTP/test_y.bin\""
      ],
      "execution_count": 6,
      "outputs": []
    },
    {
      "cell_type": "code",
      "metadata": {
        "id": "YaMVD_ZB0_CA"
      },
      "source": [
        "Xtest = read_images(path_to_test_imgs)\n",
        "Ytest_labels = read_labels(path_to_test_labels) - 1\n",
        "Ytest = np.zeros((8000,10),dtype=np.uint8)\n",
        "Ytest[np.arange(8000).reshape(-1,1),Ytest_labels.reshape(-1,1)] = 1"
      ],
      "execution_count": 7,
      "outputs": []
    },
    {
      "cell_type": "markdown",
      "metadata": {
        "id": "WjR7KK9FDAuH"
      },
      "source": [
        "##Shuffling the data"
      ]
    },
    {
      "cell_type": "code",
      "metadata": {
        "id": "20OCBDiODUom"
      },
      "source": [
        "Xtrain = tf.convert_to_tensor(Xtrain,dtype = tf.uint8)\n",
        "Ytrain = tf.convert_to_tensor(Ytrain,dtype = tf.uint8)\n",
        "Xtest  = tf.convert_to_tensor(Xtest, dtype = tf.uint8)\n",
        "Ytest  = tf.convert_to_tensor(Ytest, dtype = tf.uint8)"
      ],
      "execution_count": 8,
      "outputs": []
    },
    {
      "cell_type": "code",
      "metadata": {
        "id": "_01zL1xz3mFt"
      },
      "source": [
        "indices = tf.random.shuffle(tf.range(5000))\n",
        "Xtrain = tf.gather(Xtrain,indices)\n",
        "Ytrain = tf.gather(Ytrain,indices)"
      ],
      "execution_count": 9,
      "outputs": []
    },
    {
      "cell_type": "code",
      "metadata": {
        "id": "OJ-_Qj1LCZw9"
      },
      "source": [
        "indices = tf.random.shuffle(tf.range(8000))\n",
        "Xtest = tf.gather(Xtest,indices)\n",
        "Ytest = tf.gather(Ytest,indices)"
      ],
      "execution_count": 10,
      "outputs": []
    },
    {
      "cell_type": "code",
      "metadata": {
        "colab": {
          "base_uri": "https://localhost:8080/"
        },
        "id": "WLlydrsgCiZT",
        "outputId": "8fda8d6f-8593-4cd7-9711-0662ca166302"
      },
      "source": [
        "print(f\"Shape of Xtrain = {Xtrain.shape}\")\n",
        "print(f\"Shape of Ytrain = {Ytrain.shape}\")\n",
        "print(f\"Shape of Xtest  = {Xtest.shape}\")\n",
        "print(f\"Shape of Ytest  = {Ytest.shape}\")"
      ],
      "execution_count": 11,
      "outputs": [
        {
          "output_type": "stream",
          "text": [
            "Shape of Xtrain = (5000, 96, 96, 3)\n",
            "Shape of Ytrain = (5000, 10)\n",
            "Shape of Xtest  = (8000, 96, 96, 3)\n",
            "Shape of Ytest  = (8000, 10)\n"
          ],
          "name": "stdout"
        }
      ]
    },
    {
      "cell_type": "markdown",
      "metadata": {
        "id": "ZKqSO4i4ECs-"
      },
      "source": [
        "#Save the data as .npz file for future use"
      ]
    },
    {
      "cell_type": "markdown",
      "metadata": {
        "id": "vVB_dRPDDX_Q"
      },
      "source": [
        "Also we are saving so that we can start from middle"
      ]
    },
    {
      "cell_type": "markdown",
      "metadata": {
        "id": "NXFjDD1dHq1K"
      },
      "source": [
        "Uncomment the following cell to save the file midway"
      ]
    },
    {
      "cell_type": "code",
      "metadata": {
        "id": "qsmb580z61Jf"
      },
      "source": [
        "# import shutil\n",
        "# np.savez(\"STL10-Data\",Xtrain = Xtrain, Xtest = Xtest, Ytrain = Ytrain, Ytest = Ytest)\n",
        "# shutil.copy(\"/content/STL10-Data.npz\",\"/content/drive/MyDrive/ML-AI/QSTP/Part-1\")"
      ],
      "execution_count": 12,
      "outputs": []
    },
    {
      "cell_type": "markdown",
      "metadata": {
        "id": "nw-Unh4XEOI8"
      },
      "source": [
        "#Building and training the model"
      ]
    },
    {
      "cell_type": "markdown",
      "metadata": {
        "id": "wpcD92XFOOfb"
      },
      "source": [
        "##Full-Supervised Approach"
      ]
    },
    {
      "cell_type": "markdown",
      "metadata": {
        "id": "CiPEkc67Gb35"
      },
      "source": [
        "If the model is already trained then uncomment the following cell and start directly from here"
      ]
    },
    {
      "cell_type": "code",
      "metadata": {
        "id": "qyAjpxPtFhhz"
      },
      "source": [
        "# npzfile = np.load('/content/drive/MyDrive/ML-AI/QSTP/Part-1/STL10-Data.npz')\n",
        "# Xtrain = npzfile['Xtrain']\n",
        "# Ytrain = npzfile['Ytrain']"
      ],
      "execution_count": 13,
      "outputs": []
    },
    {
      "cell_type": "code",
      "metadata": {
        "colab": {
          "base_uri": "https://localhost:8080/"
        },
        "id": "R1Zm7WSQCmlk",
        "outputId": "2ee9e4fc-b87d-483e-e1fd-fc564ae93df7"
      },
      "source": [
        "model = tf.keras.Sequential([\n",
        "    tf.keras.layers.Conv2D(64,(3,3), activation='relu', input_shape= Xtrain.shape[1:]),\n",
        "    tf.keras.layers.MaxPool2D((2,2)),\n",
        "    tf.keras.layers.Conv2D(64,(3,3), activation='relu'),\n",
        "    tf.keras.layers.MaxPool2D((2,2)),\n",
        "    tf.keras.layers.Flatten(),\n",
        "    tf.keras.layers.Dense(24*24, activation = \"relu\"),\n",
        "    tf.keras.layers.Dense(24*24, activation = 'relu'),\n",
        "    tf.keras.layers.Dense(10,    activation = 'softmax'),\n",
        "])\n",
        "model.summary()"
      ],
      "execution_count": 14,
      "outputs": [
        {
          "output_type": "stream",
          "text": [
            "Model: \"sequential\"\n",
            "_________________________________________________________________\n",
            "Layer (type)                 Output Shape              Param #   \n",
            "=================================================================\n",
            "conv2d (Conv2D)              (None, 94, 94, 64)        1792      \n",
            "_________________________________________________________________\n",
            "max_pooling2d (MaxPooling2D) (None, 47, 47, 64)        0         \n",
            "_________________________________________________________________\n",
            "conv2d_1 (Conv2D)            (None, 45, 45, 64)        36928     \n",
            "_________________________________________________________________\n",
            "max_pooling2d_1 (MaxPooling2 (None, 22, 22, 64)        0         \n",
            "_________________________________________________________________\n",
            "flatten (Flatten)            (None, 30976)             0         \n",
            "_________________________________________________________________\n",
            "dense (Dense)                (None, 576)               17842752  \n",
            "_________________________________________________________________\n",
            "dense_1 (Dense)              (None, 576)               332352    \n",
            "_________________________________________________________________\n",
            "dense_2 (Dense)              (None, 10)                5770      \n",
            "=================================================================\n",
            "Total params: 18,219,594\n",
            "Trainable params: 18,219,594\n",
            "Non-trainable params: 0\n",
            "_________________________________________________________________\n"
          ],
          "name": "stdout"
        }
      ]
    },
    {
      "cell_type": "code",
      "metadata": {
        "id": "SXpcPUOfDgqr"
      },
      "source": [
        "model.compile(\n",
        "    optimizer = tf.keras.optimizers.Adam(),\n",
        "    loss = tf.keras.losses.BinaryCrossentropy()\n",
        "    )"
      ],
      "execution_count": 15,
      "outputs": []
    },
    {
      "cell_type": "code",
      "metadata": {
        "colab": {
          "base_uri": "https://localhost:8080/"
        },
        "id": "Z1VFsh5dDjsz",
        "outputId": "18f3c7e9-9364-4912-d996-9b8f22e2b7da"
      },
      "source": [
        "model.fit(\n",
        "    Xtrain,\n",
        "    Ytrain,\n",
        "    epochs = 10,\n",
        "    callbacks = tf.keras.callbacks.EarlyStopping(\n",
        "        monitor   = 'val_loss',\n",
        "        patience  = 1,                                                \n",
        "        min_delta = 0.01,\n",
        "        mode      = 'min'\n",
        "        ),\n",
        "    validation_split = 0.2,\n",
        "    batch_size = 125\n",
        "    )"
      ],
      "execution_count": 16,
      "outputs": [
        {
          "output_type": "stream",
          "text": [
            "Epoch 1/10\n",
            "32/32 [==============================] - 90s 3s/step - loss: 5.4331 - val_loss: 0.3055\n",
            "Epoch 2/10\n",
            "32/32 [==============================] - 88s 3s/step - loss: 0.2415 - val_loss: 0.2837\n",
            "Epoch 3/10\n",
            "32/32 [==============================] - 87s 3s/step - loss: 0.1544 - val_loss: 0.3094\n"
          ],
          "name": "stdout"
        },
        {
          "output_type": "execute_result",
          "data": {
            "text/plain": [
              "<keras.callbacks.History at 0x7f03ce22c810>"
            ]
          },
          "metadata": {},
          "execution_count": 16
        }
      ]
    },
    {
      "cell_type": "markdown",
      "metadata": {
        "id": "qM5s7SxnD8Oc"
      },
      "source": [
        "###We are saving the trained model for future use"
      ]
    },
    {
      "cell_type": "markdown",
      "metadata": {
        "id": "r_JW-rKDJvVS"
      },
      "source": [
        "If you want to save the model midway then uncomment the following cell"
      ]
    },
    {
      "cell_type": "code",
      "metadata": {
        "id": "Xdy0V1_oDuA8"
      },
      "source": [
        "# model.save(\"/content/drive/MyDrive/ML-AI/QSTP/Part-2\")"
      ],
      "execution_count": 17,
      "outputs": []
    },
    {
      "cell_type": "markdown",
      "metadata": {
        "id": "LbKhtF94E1HG"
      },
      "source": [
        "###Testing the efficency of Model"
      ]
    },
    {
      "cell_type": "markdown",
      "metadata": {
        "id": "lxomy6YjFZR8"
      },
      "source": [
        "If the model is already trained then uncomment the following two cells and start directly from here"
      ]
    },
    {
      "cell_type": "code",
      "metadata": {
        "id": "qbYjYQvQFCz3"
      },
      "source": [
        "# npzfile = np.load('/content/drive/MyDrive/ML-AI/QSTP/Part-1/STL10-Data.npz')\n",
        "# Xtest  = npzfile['Xtest']\n",
        "# Ytest  = npzfile['Ytest']"
      ],
      "execution_count": 18,
      "outputs": []
    },
    {
      "cell_type": "code",
      "metadata": {
        "id": "Nd4_hpGkFUBm"
      },
      "source": [
        "# model = tf.keras.models.load_model(\"/content/drive/MyDrive/ML-AI/QSTP/Part-2\")"
      ],
      "execution_count": 19,
      "outputs": []
    },
    {
      "cell_type": "code",
      "metadata": {
        "id": "W_wWwneEErGm"
      },
      "source": [
        "Ypred = model.predict(Xtest)                        #Predicting the y values using the trained model on Xtest"
      ],
      "execution_count": 20,
      "outputs": []
    },
    {
      "cell_type": "code",
      "metadata": {
        "colab": {
          "base_uri": "https://localhost:8080/"
        },
        "id": "whSaRIN4Er9k",
        "outputId": "eedceb3f-dac3-454d-f003-330fcd600ae5"
      },
      "source": [
        "metric = tf.keras.metrics.BinaryAccuracy()\n",
        "metric.update_state(Ytest,Ypred)\n",
        "print(f\"Accuracy of the model = {metric.result().numpy()}\")"
      ],
      "execution_count": 22,
      "outputs": [
        {
          "output_type": "stream",
          "text": [
            "Accuracy of the model = 0.9015473127365112\n"
          ],
          "name": "stdout"
        }
      ]
    },
    {
      "cell_type": "markdown",
      "metadata": {
        "id": "jo2wR7Q-OVpO"
      },
      "source": [
        "##Semi-Supervised Approach (using Pseudo Labelling)"
      ]
    },
    {
      "cell_type": "markdown",
      "metadata": {
        "id": "bwGDWlgJpnmI"
      },
      "source": [
        "Model 1"
      ]
    },
    {
      "cell_type": "code",
      "metadata": {
        "id": "iG31vvffO6Md",
        "outputId": "c3440811-42aa-488e-eb9a-ecf0ebe52cd1",
        "colab": {
          "base_uri": "https://localhost:8080/"
        }
      },
      "source": [
        "model2a = tf.keras.Sequential([\n",
        "    tf.keras.layers.Conv2D(64,(3,3), activation='relu', input_shape= Xtrain.shape[1:]),\n",
        "    tf.keras.layers.MaxPool2D((2,2)),\n",
        "    tf.keras.layers.Conv2D(64,(3,3), activation='relu'),\n",
        "    tf.keras.layers.MaxPool2D((2,2)),\n",
        "    tf.keras.layers.Flatten(),\n",
        "    tf.keras.layers.Dense(24*24, activation = \"relu\"),\n",
        "    tf.keras.layers.Dense(24*24, activation = 'relu'),\n",
        "    tf.keras.layers.Dense(10,    activation = 'softmax'),\n",
        "])\n",
        "model2a.summary()"
      ],
      "execution_count": 23,
      "outputs": [
        {
          "output_type": "stream",
          "text": [
            "Model: \"sequential_1\"\n",
            "_________________________________________________________________\n",
            "Layer (type)                 Output Shape              Param #   \n",
            "=================================================================\n",
            "conv2d_2 (Conv2D)            (None, 94, 94, 64)        1792      \n",
            "_________________________________________________________________\n",
            "max_pooling2d_2 (MaxPooling2 (None, 47, 47, 64)        0         \n",
            "_________________________________________________________________\n",
            "conv2d_3 (Conv2D)            (None, 45, 45, 64)        36928     \n",
            "_________________________________________________________________\n",
            "max_pooling2d_3 (MaxPooling2 (None, 22, 22, 64)        0         \n",
            "_________________________________________________________________\n",
            "flatten_1 (Flatten)          (None, 30976)             0         \n",
            "_________________________________________________________________\n",
            "dense_3 (Dense)              (None, 576)               17842752  \n",
            "_________________________________________________________________\n",
            "dense_4 (Dense)              (None, 576)               332352    \n",
            "_________________________________________________________________\n",
            "dense_5 (Dense)              (None, 10)                5770      \n",
            "=================================================================\n",
            "Total params: 18,219,594\n",
            "Trainable params: 18,219,594\n",
            "Non-trainable params: 0\n",
            "_________________________________________________________________\n"
          ],
          "name": "stdout"
        }
      ]
    },
    {
      "cell_type": "code",
      "metadata": {
        "id": "450KTGIVSBPc"
      },
      "source": [
        "model2a.compile(\n",
        "    optimizer = tf.keras.optimizers.Adam(),\n",
        "    loss = tf.keras.losses.BinaryCrossentropy()\n",
        "    )"
      ],
      "execution_count": 24,
      "outputs": []
    },
    {
      "cell_type": "code",
      "metadata": {
        "id": "IZdZ3MhySHSX",
        "outputId": "904ac07d-9241-4985-d82d-a6a99566b7b5",
        "colab": {
          "base_uri": "https://localhost:8080/"
        }
      },
      "source": [
        "model2a.fit(\n",
        "    Xtrain,\n",
        "    Ytrain,\n",
        "    epochs = 10,\n",
        "    callbacks = tf.keras.callbacks.EarlyStopping(\n",
        "        monitor   = 'val_loss',\n",
        "        patience  = 1,                                                \n",
        "        min_delta = 0.01,\n",
        "        mode      = 'min'\n",
        "        ),\n",
        "    validation_split = 0.1,\n",
        "    batch_size = 125\n",
        "    )"
      ],
      "execution_count": 25,
      "outputs": [
        {
          "output_type": "stream",
          "text": [
            "Epoch 1/10\n",
            "36/36 [==============================] - 95s 3s/step - loss: 6.6714 - val_loss: 0.3327\n",
            "Epoch 2/10\n",
            "36/36 [==============================] - 95s 3s/step - loss: 0.2601 - val_loss: 0.2656\n",
            "Epoch 3/10\n",
            "36/36 [==============================] - 95s 3s/step - loss: 0.1562 - val_loss: 0.2776\n"
          ],
          "name": "stdout"
        },
        {
          "output_type": "execute_result",
          "data": {
            "text/plain": [
              "<keras.callbacks.History at 0x7f03ce103250>"
            ]
          },
          "metadata": {},
          "execution_count": 25
        }
      ]
    },
    {
      "cell_type": "code",
      "metadata": {
        "id": "_Ipn9QPtSMUj"
      },
      "source": [
        "Ypred = model2a.predict(Xtest)"
      ],
      "execution_count": 26,
      "outputs": []
    },
    {
      "cell_type": "code",
      "metadata": {
        "id": "MeDCC903SNJI"
      },
      "source": [
        "pseudo_labels = np.sum(Ytest.numpy()*Ypred,axis=1) > 0.99\n",
        "Add_Xtest = Xtest[pseudo_labels]\n",
        "Add_Ytest = Ytest[pseudo_labels]"
      ],
      "execution_count": null,
      "outputs": []
    },
    {
      "cell_type": "code",
      "metadata": {
        "id": "OrlVdgnuShA8",
        "outputId": "22e50a71-e195-4ed7-c8f0-145673f02ca3",
        "colab": {
          "base_uri": "https://localhost:8080/"
        }
      },
      "source": [
        "New_Xtrain = tf.concat([Xtrain, Add_Xtest], axis = 0)\n",
        "New_Ytrain = tf.concat([Ytrain, Add_Ytest], axis = 0)\n",
        "New_Xtrain.shape, New_Ytrain.shape"
      ],
      "execution_count": 31,
      "outputs": [
        {
          "output_type": "execute_result",
          "data": {
            "text/plain": [
              "(TensorShape([5629, 96, 96, 3]), TensorShape([5629, 10]))"
            ]
          },
          "metadata": {},
          "execution_count": 31
        }
      ]
    },
    {
      "cell_type": "markdown",
      "metadata": {
        "id": "dS92DBaopz1M"
      },
      "source": [
        "Building another model with pseudo labels included"
      ]
    },
    {
      "cell_type": "code",
      "metadata": {
        "id": "vmP8ucfGT3tc",
        "outputId": "2de3498e-7d3a-4df6-9c68-3ff984920a28",
        "colab": {
          "base_uri": "https://localhost:8080/"
        }
      },
      "source": [
        "model2b = tf.keras.Sequential([\n",
        "    tf.keras.layers.Conv2D(64,(3,3), activation='relu', input_shape= Xtrain.shape[1:]),\n",
        "    tf.keras.layers.MaxPool2D((2,2)),\n",
        "    tf.keras.layers.Conv2D(64,(3,3), activation='relu'),\n",
        "    tf.keras.layers.MaxPool2D((2,2)),\n",
        "    tf.keras.layers.Flatten(),\n",
        "    tf.keras.layers.Dense(24*24, activation = \"relu\"),\n",
        "    tf.keras.layers.Dense(24*24, activation = 'relu'),\n",
        "    tf.keras.layers.Dense(10,    activation = 'softmax'),\n",
        "])\n",
        "model2b.summary()"
      ],
      "execution_count": 32,
      "outputs": [
        {
          "output_type": "stream",
          "text": [
            "Model: \"sequential_2\"\n",
            "_________________________________________________________________\n",
            "Layer (type)                 Output Shape              Param #   \n",
            "=================================================================\n",
            "conv2d_4 (Conv2D)            (None, 94, 94, 64)        1792      \n",
            "_________________________________________________________________\n",
            "max_pooling2d_4 (MaxPooling2 (None, 47, 47, 64)        0         \n",
            "_________________________________________________________________\n",
            "conv2d_5 (Conv2D)            (None, 45, 45, 64)        36928     \n",
            "_________________________________________________________________\n",
            "max_pooling2d_5 (MaxPooling2 (None, 22, 22, 64)        0         \n",
            "_________________________________________________________________\n",
            "flatten_2 (Flatten)          (None, 30976)             0         \n",
            "_________________________________________________________________\n",
            "dense_6 (Dense)              (None, 576)               17842752  \n",
            "_________________________________________________________________\n",
            "dense_7 (Dense)              (None, 576)               332352    \n",
            "_________________________________________________________________\n",
            "dense_8 (Dense)              (None, 10)                5770      \n",
            "=================================================================\n",
            "Total params: 18,219,594\n",
            "Trainable params: 18,219,594\n",
            "Non-trainable params: 0\n",
            "_________________________________________________________________\n"
          ],
          "name": "stdout"
        }
      ]
    },
    {
      "cell_type": "code",
      "metadata": {
        "id": "QlMkgVUYT_FK"
      },
      "source": [
        "model2b.compile(\n",
        "    optimizer = tf.keras.optimizers.Adam(),\n",
        "    loss = tf.keras.losses.BinaryCrossentropy()\n",
        "    )"
      ],
      "execution_count": 33,
      "outputs": []
    },
    {
      "cell_type": "code",
      "metadata": {
        "id": "mOR0OqfrUE11",
        "outputId": "b9b5ee2d-d6a6-4a72-f83b-5329b94d0de1",
        "colab": {
          "base_uri": "https://localhost:8080/"
        }
      },
      "source": [
        "model2b.fit(\n",
        "    New_Xtrain,\n",
        "    New_Ytrain,\n",
        "    epochs = 10,\n",
        "    callbacks = tf.keras.callbacks.EarlyStopping(\n",
        "        monitor   = 'val_loss',\n",
        "        patience  = 1,                                                \n",
        "        min_delta = 0.01,\n",
        "        mode      = 'min'\n",
        "        ),\n",
        "    validation_split = 0.1,\n",
        "    batch_size = 125\n",
        "    )"
      ],
      "execution_count": 34,
      "outputs": [
        {
          "output_type": "stream",
          "text": [
            "Epoch 1/10\n",
            "41/41 [==============================] - 108s 3s/step - loss: 8.0820 - val_loss: 0.1556\n",
            "Epoch 2/10\n",
            "41/41 [==============================] - 107s 3s/step - loss: 0.2498 - val_loss: 0.0883\n",
            "Epoch 3/10\n",
            "41/41 [==============================] - 107s 3s/step - loss: 0.1606 - val_loss: 0.0669\n",
            "Epoch 4/10\n",
            "41/41 [==============================] - 107s 3s/step - loss: 0.0825 - val_loss: 0.0644\n"
          ],
          "name": "stdout"
        },
        {
          "output_type": "execute_result",
          "data": {
            "text/plain": [
              "<keras.callbacks.History at 0x7f03cdefa190>"
            ]
          },
          "metadata": {},
          "execution_count": 34
        }
      ]
    },
    {
      "cell_type": "code",
      "metadata": {
        "id": "bNtqowuMVPzw"
      },
      "source": [
        "Ypred_final = model2b.predict(Xtest)"
      ],
      "execution_count": 35,
      "outputs": []
    },
    {
      "cell_type": "code",
      "metadata": {
        "id": "_jDkV3sPVr0Y",
        "outputId": "ded5f699-505b-4629-b75f-e8bf81f72162",
        "colab": {
          "base_uri": "https://localhost:8080/"
        }
      },
      "source": [
        "metric = tf.keras.metrics.BinaryAccuracy()\n",
        "metric.update_state(Ytest,Ypred_final)\n",
        "print(f\"Accuracy of the model = {metric.result().numpy()}\")"
      ],
      "execution_count": 36,
      "outputs": [
        {
          "output_type": "stream",
          "text": [
            "Accuracy of the model = 0.891385018825531\n"
          ],
          "name": "stdout"
        }
      ]
    },
    {
      "cell_type": "code",
      "metadata": {
        "id": "CU-LQiZuzXRq"
      },
      "source": [
        "from PIL import Image"
      ],
      "execution_count": 44,
      "outputs": []
    },
    {
      "cell_type": "code",
      "metadata": {
        "id": "r5Aq5rZeXyog",
        "outputId": "1d115d5a-0a01-43d5-95af-a802005f825c",
        "colab": {
          "base_uri": "https://localhost:8080/",
          "height": 148
        }
      },
      "source": [
        "labels = ['airplane', 'bird', 'car', 'cat', 'deer', 'dog', 'horse', 'monkey', 'ship', 'truck']\n",
        "\n",
        "index = np.random.randint(0,8000)\n",
        "img = Xtest[index,:,:,:].numpy()\n",
        "img_pred = tf.argmax(model2b.predict(np.expand_dims(img,axis=0)), axis = 1)\n",
        "img = Image.fromarray(img, \"RGB\")\n",
        "print(\"Prediction on image:\", labels[img_pred.numpy()[0]])\n",
        "print(\"Actual Image:\")\n",
        "img"
      ],
      "execution_count": 82,
      "outputs": [
        {
          "output_type": "stream",
          "text": [
            "Prediction on image: car\n",
            "Actual Image:\n"
          ],
          "name": "stdout"
        },
        {
          "output_type": "execute_result",
          "data": {
            "image/png": "[encoded data removed]",
            "text/plain": [
              "<PIL.Image.Image image mode=RGB size=96x96 at 0x7F03C90FD290>"
            ]
          },
          "metadata": {},
          "execution_count": 82
        }
      ]
    },
    {
      "cell_type": "code",
      "metadata": {
        "id": "0g-Rm3PGAO4S"
      },
      "source": [
        ""
      ],
      "execution_count": null,
      "outputs": []
    }
  ]
}