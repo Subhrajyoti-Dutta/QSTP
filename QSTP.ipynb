{
  "nbformat": 4,
  "nbformat_minor": 0,
  "metadata": {
    "colab": {
      "name": "QSTP.ipynb",
      "provenance": [],
      "collapsed_sections": [],
      "include_colab_link": true
    },
    "language_info": {
      "name": "python"
    },
    "kernelspec": {
      "name": "python3",
      "display_name": "Python 3"
    }
  },
  "cells": [
    {
      "cell_type": "markdown",
      "metadata": {
        "id": "view-in-github",
        "colab_type": "text"
      },
      "source": [
        "<a href=\"https://colab.research.google.com/github/Subhrajyoti-Dutta/QSTP/blob/main/QSTP.ipynb\" target=\"_parent\"><img src=\"https://colab.research.google.com/assets/colab-badge.svg\" alt=\"Open In Colab\"/></a>"
      ]
    },
    {
      "cell_type": "markdown",
      "metadata": {
        "id": "1OGsc0ahAY7V"
      },
      "source": [
        "#Import the Image Data"
      ]
    },
    {
      "cell_type": "code",
      "metadata": {
        "id": "EpXSM5BHD4y1",
        "colab": {
          "base_uri": "https://localhost:8080/"
        },
        "outputId": "223e41c6-30b9-4654-ddd1-ab9a88d2a151"
      },
      "source": [
        "from google.colab import drive\n",
        "drive.mount('/content/drive')"
      ],
      "execution_count": 1,
      "outputs": [
        {
          "output_type": "stream",
          "text": [
            "Mounted at /content/drive\n"
          ],
          "name": "stdout"
        }
      ]
    },
    {
      "cell_type": "code",
      "metadata": {
        "id": "hHCFjtcNEUw6"
      },
      "source": [
        "import os\n",
        "import numpy as np\n",
        "from PIL import Image\n",
        "import tensorflow as tf\n",
        "import pandas as pd"
      ],
      "execution_count": 36,
      "outputs": []
    },
    {
      "cell_type": "code",
      "metadata": {
        "id": "WfImbZMM5yuc"
      },
      "source": [
        "def read_labels(path_to_labels):\n",
        "    with open(path_to_labels, 'rb') as f:\n",
        "        labels = np.fromfile(f, dtype=np.uint8)\n",
        "        return labels\n",
        "\n",
        "def read_images(path_to_data):\n",
        "    with open(path_to_data, 'rb') as f:\n",
        "        everything = np.fromfile(f, dtype=np.uint8)\n",
        "        images = np.reshape(everything, (-1, 3, 96, 96))\n",
        "        images = np.transpose(images, (0, 3, 2, 1))\n",
        "        return images"
      ],
      "execution_count": 3,
      "outputs": []
    },
    {
      "cell_type": "markdown",
      "metadata": {
        "id": "Vn36-ERs3LC1"
      },
      "source": [
        "##Retrieving training data"
      ]
    },
    {
      "cell_type": "code",
      "metadata": {
        "id": "8c4x85LoD5-z"
      },
      "source": [
        "path_to_train_imgs = r\"/content/drive/MyDrive/ML-AI/QSTP/train_X.bin\"\n",
        "path_to_train_labels = r\"/content/drive/MyDrive/ML-AI/QSTP/train_y.bin\""
      ],
      "execution_count": 4,
      "outputs": []
    },
    {
      "cell_type": "code",
      "metadata": {
        "id": "bAHHBGDB6LQy"
      },
      "source": [
        "Xtrain = read_images(path_to_train_imgs)\n",
        "Ytrain_labels = read_labels(path_to_train_labels) - 1\n",
        "Ytrain = np.zeros((5000,10),dtype=np.uint8)\n",
        "Ytrain[np.arange(5000).reshape(-1,1),Ytrain_labels.reshape(-1,1)] = 1"
      ],
      "execution_count": 5,
      "outputs": []
    },
    {
      "cell_type": "markdown",
      "metadata": {
        "id": "Gljk1_xD3QkN"
      },
      "source": [
        "##Retrieving test data"
      ]
    },
    {
      "cell_type": "code",
      "metadata": {
        "id": "Yt6izB7R06P8"
      },
      "source": [
        "path_to_test_imgs = r\"/content/drive/MyDrive/ML-AI/QSTP/test_X.bin\"\n",
        "path_to_test_labels = r\"/content/drive/MyDrive/ML-AI/QSTP/test_y.bin\""
      ],
      "execution_count": 6,
      "outputs": []
    },
    {
      "cell_type": "code",
      "metadata": {
        "id": "YaMVD_ZB0_CA"
      },
      "source": [
        "Xtest = read_images(path_to_test_imgs)\n",
        "Ytest_labels = read_labels(path_to_test_labels) - 1\n",
        "Ytest = np.zeros((8000,10),dtype=np.uint8)\n",
        "Ytest[np.arange(8000).reshape(-1,1),Ytest_labels.reshape(-1,1)] = 1"
      ],
      "execution_count": 7,
      "outputs": []
    },
    {
      "cell_type": "markdown",
      "metadata": {
        "id": "WjR7KK9FDAuH"
      },
      "source": [
        "##Shuffling the data"
      ]
    },
    {
      "cell_type": "code",
      "metadata": {
        "id": "20OCBDiODUom"
      },
      "source": [
        "Xtrain = tf.convert_to_tensor(Xtrain,dtype = tf.uint8)\n",
        "Ytrain = tf.convert_to_tensor(Ytrain,dtype = tf.uint8)\n",
        "Xtest  = tf.convert_to_tensor(Xtest, dtype = tf.uint8)\n",
        "Ytest  = tf.convert_to_tensor(Ytest, dtype = tf.uint8)"
      ],
      "execution_count": 8,
      "outputs": []
    },
    {
      "cell_type": "code",
      "metadata": {
        "id": "_01zL1xz3mFt"
      },
      "source": [
        "indices = tf.random.shuffle(tf.range(5000))\n",
        "Xtrain = tf.gather(Xtrain,indices)\n",
        "Ytrain = tf.gather(Ytrain,indices)"
      ],
      "execution_count": 9,
      "outputs": []
    },
    {
      "cell_type": "code",
      "metadata": {
        "id": "OJ-_Qj1LCZw9"
      },
      "source": [
        "indices = tf.random.shuffle(tf.range(8000))\n",
        "Xtest = tf.gather(Xtest,indices)\n",
        "Ytest = tf.gather(Ytest,indices)"
      ],
      "execution_count": 10,
      "outputs": []
    },
    {
      "cell_type": "code",
      "metadata": {
        "id": "WLlydrsgCiZT",
        "colab": {
          "base_uri": "https://localhost:8080/"
        },
        "outputId": "0daf8f72-0e61-4500-907b-90ad89302e3e"
      },
      "source": [
        "print(f\"Shape of Xtrain = {Xtrain.shape}\")\n",
        "print(f\"Shape of Ytrain = {Ytrain.shape}\")\n",
        "print(f\"Shape of Xtest  = {Xtest.shape}\")\n",
        "print(f\"Shape of Ytest  = {Ytest.shape}\")"
      ],
      "execution_count": 11,
      "outputs": [
        {
          "output_type": "stream",
          "text": [
            "Shape of Xtrain = (5000, 96, 96, 3)\n",
            "Shape of Ytrain = (5000, 10)\n",
            "Shape of Xtest  = (8000, 96, 96, 3)\n",
            "Shape of Ytest  = (8000, 10)\n"
          ],
          "name": "stdout"
        }
      ]
    },
    {
      "cell_type": "markdown",
      "metadata": {
        "id": "ZKqSO4i4ECs-"
      },
      "source": [
        "#Save the data as .npz file for future use"
      ]
    },
    {
      "cell_type": "markdown",
      "metadata": {
        "id": "vVB_dRPDDX_Q"
      },
      "source": [
        "Also we are saving so that we can start from middle"
      ]
    },
    {
      "cell_type": "markdown",
      "metadata": {
        "id": "NXFjDD1dHq1K"
      },
      "source": [
        "Uncomment the following cell to save the file midway"
      ]
    },
    {
      "cell_type": "code",
      "metadata": {
        "id": "qsmb580z61Jf"
      },
      "source": [
        "# import shutil\n",
        "# np.savez(\"STL10-Data\",Xtrain = Xtrain, Xtest = Xtest, Ytrain = Ytrain, Ytest = Ytest)\n",
        "# shutil.copy(\"/content/STL10-Data.npz\",\"/content/drive/MyDrive/ML-AI/QSTP/Part-1\")"
      ],
      "execution_count": 12,
      "outputs": []
    },
    {
      "cell_type": "markdown",
      "metadata": {
        "id": "nw-Unh4XEOI8"
      },
      "source": [
        "#Building and training the model"
      ]
    },
    {
      "cell_type": "markdown",
      "metadata": {
        "id": "wpcD92XFOOfb"
      },
      "source": [
        "##Full-Supervised Approach"
      ]
    },
    {
      "cell_type": "markdown",
      "metadata": {
        "id": "CiPEkc67Gb35"
      },
      "source": [
        "If the model is already trained then uncomment the following cell and start directly from here"
      ]
    },
    {
      "cell_type": "code",
      "metadata": {
        "id": "qyAjpxPtFhhz"
      },
      "source": [
        "# npzfile = np.load('/content/drive/MyDrive/ML-AI/QSTP/Part-1/STL10-Data.npz')\n",
        "# Xtrain = npzfile['Xtrain']\n",
        "# Ytrain = npzfile['Ytrain']"
      ],
      "execution_count": 13,
      "outputs": []
    },
    {
      "cell_type": "code",
      "metadata": {
        "id": "R1Zm7WSQCmlk",
        "colab": {
          "base_uri": "https://localhost:8080/"
        },
        "outputId": "e5bac2af-51c7-4157-bb67-c540fc1bb3a5"
      },
      "source": [
        "model = tf.keras.Sequential([\n",
        "    tf.keras.layers.Conv2D(64,(3,3), activation='relu', input_shape= Xtrain.shape[1:]),\n",
        "    tf.keras.layers.MaxPool2D((2,2)),\n",
        "    tf.keras.layers.Conv2D(64,(3,3), activation='relu'),\n",
        "    tf.keras.layers.MaxPool2D((2,2)),\n",
        "    tf.keras.layers.Flatten(),\n",
        "    tf.keras.layers.Dense(24*24, activation = \"relu\"),\n",
        "    tf.keras.layers.Dense(24*24, activation = 'relu'),\n",
        "    tf.keras.layers.Dense(10,    activation = 'softmax'),\n",
        "])\n",
        "model.summary()"
      ],
      "execution_count": 14,
      "outputs": [
        {
          "output_type": "stream",
          "text": [
            "Model: \"sequential\"\n",
            "_________________________________________________________________\n",
            "Layer (type)                 Output Shape              Param #   \n",
            "=================================================================\n",
            "conv2d (Conv2D)              (None, 94, 94, 64)        1792      \n",
            "_________________________________________________________________\n",
            "max_pooling2d (MaxPooling2D) (None, 47, 47, 64)        0         \n",
            "_________________________________________________________________\n",
            "conv2d_1 (Conv2D)            (None, 45, 45, 64)        36928     \n",
            "_________________________________________________________________\n",
            "max_pooling2d_1 (MaxPooling2 (None, 22, 22, 64)        0         \n",
            "_________________________________________________________________\n",
            "flatten (Flatten)            (None, 30976)             0         \n",
            "_________________________________________________________________\n",
            "dense (Dense)                (None, 576)               17842752  \n",
            "_________________________________________________________________\n",
            "dense_1 (Dense)              (None, 576)               332352    \n",
            "_________________________________________________________________\n",
            "dense_2 (Dense)              (None, 10)                5770      \n",
            "=================================================================\n",
            "Total params: 18,219,594\n",
            "Trainable params: 18,219,594\n",
            "Non-trainable params: 0\n",
            "_________________________________________________________________\n"
          ],
          "name": "stdout"
        }
      ]
    },
    {
      "cell_type": "code",
      "metadata": {
        "id": "SXpcPUOfDgqr"
      },
      "source": [
        "model.compile(\n",
        "    optimizer = tf.keras.optimizers.Adam(),\n",
        "    loss = tf.keras.losses.BinaryCrossentropy()\n",
        "    )"
      ],
      "execution_count": 15,
      "outputs": []
    },
    {
      "cell_type": "code",
      "metadata": {
        "id": "Z1VFsh5dDjsz",
        "colab": {
          "base_uri": "https://localhost:8080/"
        },
        "outputId": "7172b0cf-3a87-4284-c70b-1cb1dba809a6"
      },
      "source": [
        "model.fit(\n",
        "    Xtrain,\n",
        "    Ytrain,\n",
        "    epochs = 10,\n",
        "    callbacks = tf.keras.callbacks.EarlyStopping(\n",
        "        monitor   = 'val_loss',\n",
        "        patience  = 1,                                                \n",
        "        min_delta = 0.01,\n",
        "        mode      = 'min'\n",
        "        ),\n",
        "    validation_split = 0.2,\n",
        "    batch_size = 125\n",
        "    )"
      ],
      "execution_count": 16,
      "outputs": [
        {
          "output_type": "stream",
          "text": [
            "Epoch 1/10\n",
            "32/32 [==============================] - 89s 3s/step - loss: 9.2735 - val_loss: 0.3796\n",
            "Epoch 2/10\n",
            "32/32 [==============================] - 87s 3s/step - loss: 0.2834 - val_loss: 0.2977\n",
            "Epoch 3/10\n",
            "32/32 [==============================] - 87s 3s/step - loss: 0.1810 - val_loss: 0.3228\n"
          ],
          "name": "stdout"
        },
        {
          "output_type": "execute_result",
          "data": {
            "text/plain": [
              "<keras.callbacks.History at 0x7f1a9f573990>"
            ]
          },
          "metadata": {},
          "execution_count": 16
        }
      ]
    },
    {
      "cell_type": "markdown",
      "metadata": {
        "id": "qM5s7SxnD8Oc"
      },
      "source": [
        "###We are saving the trained model for future use"
      ]
    },
    {
      "cell_type": "markdown",
      "metadata": {
        "id": "r_JW-rKDJvVS"
      },
      "source": [
        "If you want to save the model midway then uncomment the following cell"
      ]
    },
    {
      "cell_type": "code",
      "metadata": {
        "id": "Xdy0V1_oDuA8"
      },
      "source": [
        "# model.save(\"/content/drive/MyDrive/ML-AI/QSTP/Part-2\")"
      ],
      "execution_count": 17,
      "outputs": []
    },
    {
      "cell_type": "markdown",
      "metadata": {
        "id": "LbKhtF94E1HG"
      },
      "source": [
        "###Testing the efficency of Model"
      ]
    },
    {
      "cell_type": "markdown",
      "metadata": {
        "id": "lxomy6YjFZR8"
      },
      "source": [
        "If the model is already trained then uncomment the following two cells and start directly from here"
      ]
    },
    {
      "cell_type": "code",
      "metadata": {
        "id": "qbYjYQvQFCz3"
      },
      "source": [
        "# npzfile = np.load('/content/drive/MyDrive/ML-AI/QSTP/Part-1/STL10-Data.npz')\n",
        "# Xtest  = npzfile['Xtest']\n",
        "# Ytest  = npzfile['Ytest']"
      ],
      "execution_count": 18,
      "outputs": []
    },
    {
      "cell_type": "code",
      "metadata": {
        "id": "Nd4_hpGkFUBm"
      },
      "source": [
        "# model = tf.keras.models.load_model(\"/content/drive/MyDrive/ML-AI/QSTP/Part-2\")"
      ],
      "execution_count": 19,
      "outputs": []
    },
    {
      "cell_type": "code",
      "metadata": {
        "id": "W_wWwneEErGm"
      },
      "source": [
        "Ypred = model.predict(Xtest)                        #Predicting the y values using the trained model on Xtest"
      ],
      "execution_count": 20,
      "outputs": []
    },
    {
      "cell_type": "code",
      "metadata": {
        "id": "whSaRIN4Er9k",
        "colab": {
          "base_uri": "https://localhost:8080/"
        },
        "outputId": "8f944f3e-8f6e-49c1-ed8d-deb8c61d6e0b"
      },
      "source": [
        "metric = tf.keras.metrics.BinaryAccuracy()\n",
        "metric.update_state(Ytest,Ypred)\n",
        "super_acc = metric.result().numpy()\n",
        "print(f\"Accuracy of the model = {super_acc}\")"
      ],
      "execution_count": 38,
      "outputs": [
        {
          "output_type": "stream",
          "text": [
            "Accuracy of the model = 0.9021971225738525\n"
          ],
          "name": "stdout"
        }
      ]
    },
    {
      "cell_type": "code",
      "metadata": {
        "id": "69RdPkYbb7Rw",
        "colab": {
          "base_uri": "https://localhost:8080/",
          "height": 148
        },
        "outputId": "f7c07507-71cb-4cb0-fcb8-ac32547fadd8"
      },
      "source": [
        "labels = ['airplane', 'bird', 'car', 'cat', 'deer', 'dog', 'horse', 'monkey', 'ship', 'truck']\n",
        "\n",
        "index = np.random.randint(0,8000)\n",
        "img = Xtest[index,:,:,:].numpy()\n",
        "img_pred = tf.argmax(model.predict(np.expand_dims(img,axis=0)), axis = 1)\n",
        "img = Image.fromarray(img, \"RGB\")\n",
        "print(\"Prediction on image:\", labels[img_pred.numpy()[0]])\n",
        "print(\"Actual Image:\")\n",
        "img"
      ],
      "execution_count": 44,
      "outputs": [
        {
          "output_type": "stream",
          "text": [
            "Prediction on image: airplane\n",
            "Actual Image:\n"
          ],
          "name": "stdout"
        },
        {
          "output_type": "execute_result",
          "data": {
            "image/png": "[encoded data removed]",
            "text/plain": [
              "<PIL.Image.Image image mode=RGB size=96x96 at 0x7F1A50247350>"
            ]
          },
          "metadata": {},
          "execution_count": 44
        }
      ]
    },
    {
      "cell_type": "markdown",
      "metadata": {
        "id": "jo2wR7Q-OVpO"
      },
      "source": [
        "##Semi-Supervised Approach (using Pseudo Labelling)"
      ]
    },
    {
      "cell_type": "markdown",
      "metadata": {
        "id": "bwGDWlgJpnmI"
      },
      "source": [
        "Model 1"
      ]
    },
    {
      "cell_type": "code",
      "metadata": {
        "id": "iG31vvffO6Md",
        "colab": {
          "base_uri": "https://localhost:8080/"
        },
        "outputId": "1fc0e8d1-ce65-496d-ff2a-16b383042172"
      },
      "source": [
        "model2a = tf.keras.Sequential([\n",
        "    tf.keras.layers.Conv2D(64,(3,3), activation='relu', input_shape= Xtrain.shape[1:]),\n",
        "    tf.keras.layers.MaxPool2D((2,2)),\n",
        "    tf.keras.layers.Conv2D(64,(3,3), activation='relu'),\n",
        "    tf.keras.layers.MaxPool2D((2,2)),\n",
        "    tf.keras.layers.Flatten(),\n",
        "    tf.keras.layers.Dense(24*24, activation = \"relu\"),\n",
        "    tf.keras.layers.Dense(24*24, activation = 'relu'),\n",
        "    tf.keras.layers.Dense(10,    activation = 'softmax'),\n",
        "])\n",
        "model2a.summary()"
      ],
      "execution_count": 24,
      "outputs": [
        {
          "output_type": "stream",
          "text": [
            "Model: \"sequential_1\"\n",
            "_________________________________________________________________\n",
            "Layer (type)                 Output Shape              Param #   \n",
            "=================================================================\n",
            "conv2d_2 (Conv2D)            (None, 94, 94, 64)        1792      \n",
            "_________________________________________________________________\n",
            "max_pooling2d_2 (MaxPooling2 (None, 47, 47, 64)        0         \n",
            "_________________________________________________________________\n",
            "conv2d_3 (Conv2D)            (None, 45, 45, 64)        36928     \n",
            "_________________________________________________________________\n",
            "max_pooling2d_3 (MaxPooling2 (None, 22, 22, 64)        0         \n",
            "_________________________________________________________________\n",
            "flatten_1 (Flatten)          (None, 30976)             0         \n",
            "_________________________________________________________________\n",
            "dense_3 (Dense)              (None, 576)               17842752  \n",
            "_________________________________________________________________\n",
            "dense_4 (Dense)              (None, 576)               332352    \n",
            "_________________________________________________________________\n",
            "dense_5 (Dense)              (None, 10)                5770      \n",
            "=================================================================\n",
            "Total params: 18,219,594\n",
            "Trainable params: 18,219,594\n",
            "Non-trainable params: 0\n",
            "_________________________________________________________________\n"
          ],
          "name": "stdout"
        }
      ]
    },
    {
      "cell_type": "code",
      "metadata": {
        "id": "450KTGIVSBPc"
      },
      "source": [
        "model2a.compile(\n",
        "    optimizer = tf.keras.optimizers.Adam(),\n",
        "    loss = tf.keras.losses.BinaryCrossentropy()\n",
        "    )"
      ],
      "execution_count": 25,
      "outputs": []
    },
    {
      "cell_type": "code",
      "metadata": {
        "id": "IZdZ3MhySHSX",
        "colab": {
          "base_uri": "https://localhost:8080/"
        },
        "outputId": "6c1a7b1d-05c7-4894-f34f-3c8352e57f07"
      },
      "source": [
        "model2a.fit(\n",
        "    Xtrain,\n",
        "    Ytrain,\n",
        "    epochs = 10,\n",
        "    callbacks = tf.keras.callbacks.EarlyStopping(\n",
        "        monitor   = 'val_loss',\n",
        "        patience  = 1,                                                \n",
        "        min_delta = 0.01,\n",
        "        mode      = 'min'\n",
        "        ),\n",
        "    validation_split = 0.1,\n",
        "    batch_size = 125\n",
        "    )"
      ],
      "execution_count": 26,
      "outputs": [
        {
          "output_type": "stream",
          "text": [
            "Epoch 1/10\n",
            "36/36 [==============================] - 97s 3s/step - loss: 5.0215 - val_loss: 0.3251\n",
            "Epoch 2/10\n",
            "36/36 [==============================] - 95s 3s/step - loss: 0.2727 - val_loss: 0.2707\n",
            "Epoch 3/10\n",
            "36/36 [==============================] - 95s 3s/step - loss: 0.1762 - val_loss: 0.2898\n"
          ],
          "name": "stdout"
        },
        {
          "output_type": "execute_result",
          "data": {
            "text/plain": [
              "<keras.callbacks.History at 0x7f1a506b6850>"
            ]
          },
          "metadata": {},
          "execution_count": 26
        }
      ]
    },
    {
      "cell_type": "code",
      "metadata": {
        "id": "v8QeGK0U64F5"
      },
      "source": [
        ""
      ],
      "execution_count": null,
      "outputs": []
    },
    {
      "cell_type": "code",
      "metadata": {
        "id": "_Ipn9QPtSMUj"
      },
      "source": [
        "Ypred = model2a.predict(Xtest)"
      ],
      "execution_count": 27,
      "outputs": []
    },
    {
      "cell_type": "code",
      "metadata": {
        "id": "MeDCC903SNJI"
      },
      "source": [
        "pseudo_labels = np.sum(Ytest.numpy()*Ypred,axis=1) > 0.99\n",
        "Add_Xtest = Xtest[pseudo_labels]\n",
        "Add_Ytest = Ytest[pseudo_labels]"
      ],
      "execution_count": 28,
      "outputs": []
    },
    {
      "cell_type": "code",
      "metadata": {
        "id": "OrlVdgnuShA8",
        "colab": {
          "base_uri": "https://localhost:8080/"
        },
        "outputId": "87e54264-4592-4a64-d415-398f20075339"
      },
      "source": [
        "New_Xtrain = tf.concat([Xtrain, Add_Xtest], axis = 0)\n",
        "New_Ytrain = tf.concat([Ytrain, Add_Ytest], axis = 0)\n",
        "New_Xtrain.shape, New_Ytrain.shape"
      ],
      "execution_count": 29,
      "outputs": [
        {
          "output_type": "execute_result",
          "data": {
            "text/plain": [
              "(TensorShape([5620, 96, 96, 3]), TensorShape([5620, 10]))"
            ]
          },
          "metadata": {},
          "execution_count": 29
        }
      ]
    },
    {
      "cell_type": "markdown",
      "metadata": {
        "id": "9ej013Wj7pDF"
      },
      "source": [
        "Model 2"
      ]
    },
    {
      "cell_type": "markdown",
      "metadata": {
        "id": "dS92DBaopz1M"
      },
      "source": [
        "Building another model with pseudo labels included"
      ]
    },
    {
      "cell_type": "code",
      "metadata": {
        "id": "vmP8ucfGT3tc",
        "colab": {
          "base_uri": "https://localhost:8080/"
        },
        "outputId": "1bb1242b-c3cf-4f91-dd17-d18ce2f1ab2e"
      },
      "source": [
        "model2b = tf.keras.Sequential([\n",
        "    tf.keras.layers.Conv2D(64,(3,3), activation='relu', input_shape= Xtrain.shape[1:]),\n",
        "    tf.keras.layers.MaxPool2D((2,2)),\n",
        "    tf.keras.layers.Conv2D(64,(3,3), activation='relu'),\n",
        "    tf.keras.layers.MaxPool2D((2,2)),\n",
        "    tf.keras.layers.Flatten(),\n",
        "    tf.keras.layers.Dense(24*24, activation = \"relu\"),\n",
        "    tf.keras.layers.Dense(24*24, activation = 'relu'),\n",
        "    tf.keras.layers.Dense(10,    activation = 'softmax'),\n",
        "])\n",
        "model2b.summary()"
      ],
      "execution_count": 30,
      "outputs": [
        {
          "output_type": "stream",
          "text": [
            "Model: \"sequential_2\"\n",
            "_________________________________________________________________\n",
            "Layer (type)                 Output Shape              Param #   \n",
            "=================================================================\n",
            "conv2d_4 (Conv2D)            (None, 94, 94, 64)        1792      \n",
            "_________________________________________________________________\n",
            "max_pooling2d_4 (MaxPooling2 (None, 47, 47, 64)        0         \n",
            "_________________________________________________________________\n",
            "conv2d_5 (Conv2D)            (None, 45, 45, 64)        36928     \n",
            "_________________________________________________________________\n",
            "max_pooling2d_5 (MaxPooling2 (None, 22, 22, 64)        0         \n",
            "_________________________________________________________________\n",
            "flatten_2 (Flatten)          (None, 30976)             0         \n",
            "_________________________________________________________________\n",
            "dense_6 (Dense)              (None, 576)               17842752  \n",
            "_________________________________________________________________\n",
            "dense_7 (Dense)              (None, 576)               332352    \n",
            "_________________________________________________________________\n",
            "dense_8 (Dense)              (None, 10)                5770      \n",
            "=================================================================\n",
            "Total params: 18,219,594\n",
            "Trainable params: 18,219,594\n",
            "Non-trainable params: 0\n",
            "_________________________________________________________________\n"
          ],
          "name": "stdout"
        }
      ]
    },
    {
      "cell_type": "code",
      "metadata": {
        "id": "QlMkgVUYT_FK"
      },
      "source": [
        "model2b.compile(\n",
        "    optimizer = tf.keras.optimizers.Adam(),\n",
        "    loss = tf.keras.losses.BinaryCrossentropy()\n",
        "    )"
      ],
      "execution_count": 31,
      "outputs": []
    },
    {
      "cell_type": "code",
      "metadata": {
        "id": "mOR0OqfrUE11",
        "colab": {
          "base_uri": "https://localhost:8080/"
        },
        "outputId": "9ab80ce9-bec7-44cb-bf86-a1e18d61a4d6"
      },
      "source": [
        "model2b.fit(\n",
        "    New_Xtrain,\n",
        "    New_Ytrain,\n",
        "    epochs = 10,\n",
        "    callbacks = tf.keras.callbacks.EarlyStopping(\n",
        "        monitor   = 'val_loss',\n",
        "        patience  = 1,                                                \n",
        "        min_delta = 0.01,\n",
        "        mode      = 'min'\n",
        "        ),\n",
        "    validation_split = 0.1,\n",
        "    batch_size = 125\n",
        "    )"
      ],
      "execution_count": 32,
      "outputs": [
        {
          "output_type": "stream",
          "text": [
            "Epoch 1/10\n",
            "41/41 [==============================] - 109s 3s/step - loss: 6.3184 - val_loss: 0.1196\n",
            "Epoch 2/10\n",
            "41/41 [==============================] - 108s 3s/step - loss: 0.2604 - val_loss: 0.0953\n",
            "Epoch 3/10\n",
            "41/41 [==============================] - 108s 3s/step - loss: 0.1883 - val_loss: 0.0604\n",
            "Epoch 4/10\n",
            "41/41 [==============================] - 108s 3s/step - loss: 0.1064 - val_loss: 0.0802\n"
          ],
          "name": "stdout"
        },
        {
          "output_type": "execute_result",
          "data": {
            "text/plain": [
              "<keras.callbacks.History at 0x7f1a50521290>"
            ]
          },
          "metadata": {},
          "execution_count": 32
        }
      ]
    },
    {
      "cell_type": "markdown",
      "metadata": {
        "id": "XyVTh3Dd7PR_"
      },
      "source": [
        "###We are saving the trained model for future use"
      ]
    },
    {
      "cell_type": "markdown",
      "metadata": {
        "id": "hnIm4V_g7XRP"
      },
      "source": [
        "If you want to save the model midway then uncomment the following cell"
      ]
    },
    {
      "cell_type": "code",
      "metadata": {
        "id": "UdVUoVnj6yDo"
      },
      "source": [
        "# model2b.save(\"/content/drive/MyDrive/ML-AI/QSTP/Part-3\")"
      ],
      "execution_count": null,
      "outputs": []
    },
    {
      "cell_type": "markdown",
      "metadata": {
        "id": "mNSrQYx07clZ"
      },
      "source": [
        "###Testing the efficency of Model"
      ]
    },
    {
      "cell_type": "markdown",
      "metadata": {
        "id": "7SPOq7ID7hG8"
      },
      "source": [
        "If the model is already trained then uncomment the following two cells and start directly from here"
      ]
    },
    {
      "cell_type": "code",
      "metadata": {
        "id": "M-7Ymx-q7D3N"
      },
      "source": [
        "# npzfile = np.load('/content/drive/MyDrive/ML-AI/QSTP/Part-1/STL10-Data.npz')\n",
        "# Xtest  = npzfile['Xtest']\n",
        "# Ytest  = npzfile['Ytest']"
      ],
      "execution_count": null,
      "outputs": []
    },
    {
      "cell_type": "code",
      "metadata": {
        "id": "4uFZ07PJ637K"
      },
      "source": [
        "# model2b = tf.keras.models.load_model(\"/content/drive/MyDrive/ML-AI/QSTP/Part-2\")"
      ],
      "execution_count": null,
      "outputs": []
    },
    {
      "cell_type": "code",
      "metadata": {
        "id": "bNtqowuMVPzw"
      },
      "source": [
        "Ypred_final = model2b.predict(Xtest)"
      ],
      "execution_count": 33,
      "outputs": []
    },
    {
      "cell_type": "code",
      "metadata": {
        "id": "_jDkV3sPVr0Y",
        "colab": {
          "base_uri": "https://localhost:8080/"
        },
        "outputId": "cb240a04-a61d-4bdc-b9e1-d473f605dccc"
      },
      "source": [
        "metric2 = tf.keras.metrics.BinaryAccuracy()\n",
        "metric2.update_state(Ytest,Ypred_final)\n",
        "semi_super_acc = metric2.result().numpy()\n",
        "print(f\"Accuracy of the model = {semi_super_acc}\")"
      ],
      "execution_count": 39,
      "outputs": [
        {
          "output_type": "stream",
          "text": [
            "Accuracy of the model = 0.8930597901344299\n"
          ],
          "name": "stdout"
        }
      ]
    },
    {
      "cell_type": "code",
      "metadata": {
        "id": "r5Aq5rZeXyog",
        "colab": {
          "base_uri": "https://localhost:8080/",
          "height": 148
        },
        "outputId": "bd897bae-fd79-487a-cf08-561234e8f802"
      },
      "source": [
        "labels = ['airplane', 'bird', 'car', 'cat', 'deer', 'dog', 'horse', 'monkey', 'ship', 'truck']\n",
        "\n",
        "index = np.random.randint(0,8000)\n",
        "img = Xtest[index,:,:,:].numpy()\n",
        "img_pred = tf.argmax(model2b.predict(np.expand_dims(img,axis=0)), axis = 1)\n",
        "img = Image.fromarray(img, \"RGB\")\n",
        "print(\"Prediction on image:\", labels[img_pred.numpy()[0]])\n",
        "print(\"Actual Image:\")\n",
        "img"
      ],
      "execution_count": 40,
      "outputs": [
        {
          "output_type": "stream",
          "text": [
            "Prediction on image: bird\n",
            "Actual Image:\n"
          ],
          "name": "stdout"
        },
        {
          "output_type": "execute_result",
          "data": {
            "image/png": "[encoded data removed]",
            "text/plain": [
              "<PIL.Image.Image image mode=RGB size=96x96 at 0x7F1A5034E410>"
            ]
          },
          "metadata": {},
          "execution_count": 40
        }
      ]
    },
    {
      "cell_type": "code",
      "metadata": {
        "id": "0g-Rm3PGAO4S",
        "colab": {
          "base_uri": "https://localhost:8080/",
          "height": 112
        },
        "outputId": "138e6539-2094-4fc8-d9d7-8a16185e2025"
      },
      "source": [
        "acc = pd.DataFrame({\"Model\": [\"Supervised Model\", \"Semi-supervised Model\"],\n",
        "                    \"Accuracy\": [super_acc,semi_super_acc]})\n",
        "acc"
      ],
      "execution_count": 41,
      "outputs": [
        {
          "output_type": "execute_result",
          "data": {
            "text/html": [
              "<div>\n",
              "<style scoped>\n",
              "    .dataframe tbody tr th:only-of-type {\n",
              "        vertical-align: middle;\n",
              "    }\n",
              "\n",
              "    .dataframe tbody tr th {\n",
              "        vertical-align: top;\n",
              "    }\n",
              "\n",
              "    .dataframe thead th {\n",
              "        text-align: right;\n",
              "    }\n",
              "</style>\n",
              "<table border=\"1\" class=\"dataframe\">\n",
              "  <thead>\n",
              "    <tr style=\"text-align: right;\">\n",
              "      <th></th>\n",
              "      <th>Model</th>\n",
              "      <th>Accuracy</th>\n",
              "    </tr>\n",
              "  </thead>\n",
              "  <tbody>\n",
              "    <tr>\n",
              "      <th>0</th>\n",
              "      <td>Supervised Model</td>\n",
              "      <td>0.902197</td>\n",
              "    </tr>\n",
              "    <tr>\n",
              "      <th>1</th>\n",
              "      <td>Semi-supervised Model</td>\n",
              "      <td>0.893060</td>\n",
              "    </tr>\n",
              "  </tbody>\n",
              "</table>\n",
              "</div>"
            ],
            "text/plain": [
              "                   Model  Accuracy\n",
              "0       Supervised Model  0.902197\n",
              "1  Semi-supervised Model  0.893060"
            ]
          },
          "metadata": {},
          "execution_count": 41
        }
      ]
    },
    {
      "cell_type": "code",
      "metadata": {
        "id": "yA4rb93Gz1v8"
      },
      "source": [
        ""
      ],
      "execution_count": null,
      "outputs": []
    }
  ]
}