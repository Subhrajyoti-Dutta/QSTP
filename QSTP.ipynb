{
  "nbformat": 4,
  "nbformat_minor": 0,
  "metadata": {
    "colab": {
      "name": "QSTP.ipynb",
      "provenance": [],
      "collapsed_sections": [],
      "authorship_tag": "ABX9TyMYibtyoGluOzJQJ3Y0YoJy",
      "include_colab_link": true
    },
    "language_info": {
      "name": "python"
    },
    "kernelspec": {
      "name": "python3",
      "display_name": "Python 3"
    }
  },
  "cells": [
    {
      "cell_type": "markdown",
      "metadata": {
        "id": "view-in-github",
        "colab_type": "text"
      },
      "source": [
        "<a href=\"https://colab.research.google.com/github/Subhrajyoti-Dutta/QSTP/blob/main/QSTP.ipynb\" target=\"_parent\"><img src=\"https://colab.research.google.com/assets/colab-badge.svg\" alt=\"Open In Colab\"/></a>"
      ]
    },
    {
      "cell_type": "markdown",
      "metadata": {
        "id": "1OGsc0ahAY7V"
      },
      "source": [
        "#Import the Image Data"
      ]
    },
    {
      "cell_type": "code",
      "metadata": {
        "colab": {
          "base_uri": "https://localhost:8080/"
        },
        "id": "EpXSM5BHD4y1",
        "outputId": "c61972e0-b356-43b7-a480-d1ace8191eb4"
      },
      "source": [
        "from google.colab import drive\n",
        "drive.mount('/content/drive')"
      ],
      "execution_count": 1,
      "outputs": [
        {
          "output_type": "stream",
          "text": [
            "Drive already mounted at /content/drive; to attempt to forcibly remount, call drive.mount(\"/content/drive\", force_remount=True).\n"
          ],
          "name": "stdout"
        }
      ]
    },
    {
      "cell_type": "code",
      "metadata": {
        "id": "hHCFjtcNEUw6"
      },
      "source": [
        "import os\n",
        "import numpy as np\n",
        "from PIL import Image\n",
        "import tensorflow as tf"
      ],
      "execution_count": 2,
      "outputs": []
    },
    {
      "cell_type": "code",
      "metadata": {
        "id": "WfImbZMM5yuc"
      },
      "source": [
        "def read_labels(path_to_labels):\n",
        "    with open(path_to_labels, 'rb') as f:\n",
        "        labels = np.fromfile(f, dtype=np.uint8)\n",
        "        return labels\n",
        "\n",
        "def read_images(path_to_data):\n",
        "    with open(path_to_data, 'rb') as f:\n",
        "        everything = np.fromfile(f, dtype=np.uint8)\n",
        "        images = np.reshape(everything, (-1, 3, 96, 96))\n",
        "        images = np.transpose(images, (0, 3, 2, 1))\n",
        "        return images"
      ],
      "execution_count": 3,
      "outputs": []
    },
    {
      "cell_type": "markdown",
      "metadata": {
        "id": "Vn36-ERs3LC1"
      },
      "source": [
        "##Retrieving training data"
      ]
    },
    {
      "cell_type": "code",
      "metadata": {
        "id": "8c4x85LoD5-z"
      },
      "source": [
        "path_to_train_imgs = r\"/content/drive/MyDrive/ML-AI/QSTP/train_X.bin\"\n",
        "path_to_train_labels = r\"/content/drive/MyDrive/ML-AI/QSTP/train_y.bin\""
      ],
      "execution_count": 4,
      "outputs": []
    },
    {
      "cell_type": "code",
      "metadata": {
        "id": "bAHHBGDB6LQy"
      },
      "source": [
        "Xtrain = read_images(path_to_train_imgs)\n",
        "Ytrain_labels = read_labels(path_to_train_labels) - 1\n",
        "Ytrain = np.zeros((5000,10),dtype=np.uint8)\n",
        "Ytrain[np.arange(5000).reshape(-1,1),Ytrain_labels.reshape(-1,1)] = 1"
      ],
      "execution_count": 5,
      "outputs": []
    },
    {
      "cell_type": "markdown",
      "metadata": {
        "id": "Gljk1_xD3QkN"
      },
      "source": [
        "##Retrieving test data"
      ]
    },
    {
      "cell_type": "code",
      "metadata": {
        "id": "Yt6izB7R06P8"
      },
      "source": [
        "path_to_test_imgs = r\"/content/drive/MyDrive/ML-AI/QSTP/test_X.bin\"\n",
        "path_to_test_labels = r\"/content/drive/MyDrive/ML-AI/QSTP/test_y.bin\""
      ],
      "execution_count": 7,
      "outputs": []
    },
    {
      "cell_type": "code",
      "metadata": {
        "id": "YaMVD_ZB0_CA"
      },
      "source": [
        "Xtest = read_images(path_to_test_imgs)\n",
        "Ytest_labels = read_labels(path_to_test_labels) - 1\n",
        "Ytest = np.zeros((8000,10),dtype=np.uint8)\n",
        "Ytest[np.arange(8000).reshape(-1,1),Ytest_labels.reshape(-1,1)] = 1"
      ],
      "execution_count": 8,
      "outputs": []
    },
    {
      "cell_type": "markdown",
      "metadata": {
        "id": "WjR7KK9FDAuH"
      },
      "source": [
        "##Shuffling the data"
      ]
    },
    {
      "cell_type": "code",
      "metadata": {
        "id": "20OCBDiODUom"
      },
      "source": [
        "Xtrain = tf.convert_to_tensor(Xtrain,dtype = tf.uint8)\n",
        "Ytrain = tf.convert_to_tensor(Ytrain,dtype = tf.uint8)\n",
        "Xtest  = tf.convert_to_tensor(Xtest, dtype = tf.uint8)\n",
        "Ytest  = tf.convert_to_tensor(Ytest, dtype = tf.uint8)"
      ],
      "execution_count": 10,
      "outputs": []
    },
    {
      "cell_type": "code",
      "metadata": {
        "id": "_01zL1xz3mFt"
      },
      "source": [
        "indices = tf.random.shuffle(tf.range(5000))\n",
        "Xtrain = tf.gather(Xtrain,indices)\n",
        "Ytrain = tf.gather(Ytrain,indices)"
      ],
      "execution_count": 11,
      "outputs": []
    },
    {
      "cell_type": "code",
      "metadata": {
        "id": "OJ-_Qj1LCZw9"
      },
      "source": [
        "indices = tf.random.shuffle(tf.range(8000))\n",
        "Xtest = tf.gather(Xtest,indices)\n",
        "Ytest = tf.gather(Ytest,indices)"
      ],
      "execution_count": 12,
      "outputs": []
    },
    {
      "cell_type": "code",
      "metadata": {
        "colab": {
          "base_uri": "https://localhost:8080/"
        },
        "id": "WLlydrsgCiZT",
        "outputId": "31fdd66c-0ce4-443f-9be7-5b782fc18c50"
      },
      "source": [
        "print(f\"Shape of Xtrain = {Xtrain.shape}\")\n",
        "print(f\"Shape of Ytrain = {Ytrain.shape}\")\n",
        "print(f\"Shape of Xtest  = {Xtest.shape}\")\n",
        "print(f\"Shape of Ytest  = {Ytest.shape}\")"
      ],
      "execution_count": 13,
      "outputs": [
        {
          "output_type": "stream",
          "text": [
            "Shape of Xtrain = (5000, 96, 96, 3)\n",
            "Shape of Ytrain = (5000, 10)\n",
            "Shape of Xtest  = (8000, 96, 96, 3)\n",
            "Shape of Ytest  = (8000, 10)\n"
          ],
          "name": "stdout"
        }
      ]
    },
    {
      "cell_type": "markdown",
      "metadata": {
        "id": "ZKqSO4i4ECs-"
      },
      "source": [
        "#Save the data as .npz file for future use"
      ]
    },
    {
      "cell_type": "markdown",
      "metadata": {
        "id": "vVB_dRPDDX_Q"
      },
      "source": [
        "Also we are saving so that we can start from middle"
      ]
    },
    {
      "cell_type": "markdown",
      "metadata": {
        "id": "NXFjDD1dHq1K"
      },
      "source": [
        "Uncomment the following cell to save the file midway"
      ]
    },
    {
      "cell_type": "code",
      "metadata": {
        "id": "qsmb580z61Jf"
      },
      "source": [
        "# import shutil\n",
        "# np.savez(\"STL10-Data\",Xtrain = Xtrain, Xtest = Xtest, Ytrain = Ytrain, Ytest = Ytest)\n",
        "# shutil.copy(\"/content/STL10-Data.npz\",\"/content/drive/MyDrive/ML-AI/QSTP/Part-1\")"
      ],
      "execution_count": 14,
      "outputs": []
    },
    {
      "cell_type": "markdown",
      "metadata": {
        "id": "nw-Unh4XEOI8"
      },
      "source": [
        "#Building and training the model"
      ]
    },
    {
      "cell_type": "markdown",
      "metadata": {
        "id": "CiPEkc67Gb35"
      },
      "source": [
        "If the model is already trained then uncomment the following cell and start directly from here"
      ]
    },
    {
      "cell_type": "code",
      "metadata": {
        "id": "qyAjpxPtFhhz"
      },
      "source": [
        "# npzfile = np.load('/content/drive/MyDrive/ML-AI/QSTP/Part-1/STL10-Data.npz')\n",
        "# Xtrain = npzfile['Xtrain']\n",
        "# Ytrain = npzfile['Ytrain']"
      ],
      "execution_count": 15,
      "outputs": []
    },
    {
      "cell_type": "code",
      "metadata": {
        "colab": {
          "base_uri": "https://localhost:8080/"
        },
        "id": "R1Zm7WSQCmlk",
        "outputId": "63bc469c-bd65-46ab-b109-b6ea7b435d56"
      },
      "source": [
        "model = tf.keras.Sequential([\n",
        "    tf.keras.layers.Conv2D(64,(3,3), activation='relu', input_shape= Xtrain.shape[1:]),\n",
        "    tf.keras.layers.MaxPool2D((2,2)),\n",
        "    tf.keras.layers.Conv2D(64,(3,3), activation='relu'),\n",
        "    tf.keras.layers.MaxPool2D((2,2)),\n",
        "    tf.keras.layers.Flatten(),\n",
        "    tf.keras.layers.Dense(24*24, activation = \"relu\"),\n",
        "    tf.keras.layers.Dense(24*24, activation = 'relu'),\n",
        "    tf.keras.layers.Dense(10,    activation = 'softmax'),\n",
        "])\n",
        "model.summary()"
      ],
      "execution_count": 16,
      "outputs": [
        {
          "output_type": "stream",
          "text": [
            "Model: \"sequential\"\n",
            "_________________________________________________________________\n",
            "Layer (type)                 Output Shape              Param #   \n",
            "=================================================================\n",
            "conv2d (Conv2D)              (None, 94, 94, 64)        1792      \n",
            "_________________________________________________________________\n",
            "max_pooling2d (MaxPooling2D) (None, 47, 47, 64)        0         \n",
            "_________________________________________________________________\n",
            "conv2d_1 (Conv2D)            (None, 45, 45, 64)        36928     \n",
            "_________________________________________________________________\n",
            "max_pooling2d_1 (MaxPooling2 (None, 22, 22, 64)        0         \n",
            "_________________________________________________________________\n",
            "flatten (Flatten)            (None, 30976)             0         \n",
            "_________________________________________________________________\n",
            "dense (Dense)                (None, 576)               17842752  \n",
            "_________________________________________________________________\n",
            "dense_1 (Dense)              (None, 576)               332352    \n",
            "_________________________________________________________________\n",
            "dense_2 (Dense)              (None, 10)                5770      \n",
            "=================================================================\n",
            "Total params: 18,219,594\n",
            "Trainable params: 18,219,594\n",
            "Non-trainable params: 0\n",
            "_________________________________________________________________\n"
          ],
          "name": "stdout"
        }
      ]
    },
    {
      "cell_type": "code",
      "metadata": {
        "id": "SXpcPUOfDgqr"
      },
      "source": [
        "model.compile(\n",
        "    optimizer = tf.keras.optimizers.Adam(),\n",
        "    loss = tf.keras.losses.BinaryCrossentropy()\n",
        "    )"
      ],
      "execution_count": 17,
      "outputs": []
    },
    {
      "cell_type": "code",
      "metadata": {
        "colab": {
          "base_uri": "https://localhost:8080/"
        },
        "id": "Z1VFsh5dDjsz",
        "outputId": "012e6601-9ac2-4b0b-9ed0-a3e78e791f52"
      },
      "source": [
        "model.fit(\n",
        "    Xtrain,\n",
        "    Ytrain,\n",
        "    epochs = 10,\n",
        "    callbacks = tf.keras.callbacks.EarlyStopping(\n",
        "        monitor   = 'val_loss',\n",
        "        patience  = 1,                                                #\n",
        "        min_delta = 0.01,\n",
        "        mode      = 'min'\n",
        "        ),\n",
        "    validation_split = 0.2,\n",
        "    batch_size = 125\n",
        "    )"
      ],
      "execution_count": 18,
      "outputs": [
        {
          "output_type": "stream",
          "text": [
            "Epoch 1/10\n",
            "29/29 [==============================] - 100s 3s/step - loss: 5.7461 - val_loss: 0.3119\n",
            "Epoch 2/10\n",
            "29/29 [==============================] - 93s 3s/step - loss: 0.2878 - val_loss: 0.2801\n",
            "Epoch 3/10\n",
            "29/29 [==============================] - 94s 3s/step - loss: 0.2175 - val_loss: 0.2834\n"
          ],
          "name": "stdout"
        },
        {
          "output_type": "execute_result",
          "data": {
            "text/plain": [
              "<keras.callbacks.History at 0x7f9876d19890>"
            ]
          },
          "metadata": {},
          "execution_count": 18
        }
      ]
    },
    {
      "cell_type": "markdown",
      "metadata": {
        "id": "qM5s7SxnD8Oc"
      },
      "source": [
        "##We are saving the trained model for future use"
      ]
    },
    {
      "cell_type": "markdown",
      "metadata": {
        "id": "r_JW-rKDJvVS"
      },
      "source": [
        "If you want to save the model midway then uncomment the following cell"
      ]
    },
    {
      "cell_type": "code",
      "metadata": {
        "id": "Xdy0V1_oDuA8"
      },
      "source": [
        "# model.save(\"/content/drive/MyDrive/ML-AI/QSTP/Part-2\")"
      ],
      "execution_count": null,
      "outputs": []
    },
    {
      "cell_type": "markdown",
      "metadata": {
        "id": "LbKhtF94E1HG"
      },
      "source": [
        "#Testing the efficency of Model"
      ]
    },
    {
      "cell_type": "markdown",
      "metadata": {
        "id": "lxomy6YjFZR8"
      },
      "source": [
        "If the model is already trained then uncomment the following two cells and start directly from here"
      ]
    },
    {
      "cell_type": "code",
      "metadata": {
        "id": "qbYjYQvQFCz3"
      },
      "source": [
        "# npzfile = np.load('/content/drive/MyDrive/ML-AI/QSTP/Part-1/STL10-Data.npz')\n",
        "# Xtest  = npzfile['Xtest']\n",
        "# Ytest  = npzfile['Ytest']"
      ],
      "execution_count": 20,
      "outputs": []
    },
    {
      "cell_type": "code",
      "metadata": {
        "id": "Nd4_hpGkFUBm"
      },
      "source": [
        "# model = tf.keras.models.load_model(\"/content/drive/MyDrive/ML-AI/QSTP/Part-2\")"
      ],
      "execution_count": 21,
      "outputs": []
    },
    {
      "cell_type": "code",
      "metadata": {
        "id": "W_wWwneEErGm"
      },
      "source": [
        "Ypred = model.predict(Xtest)                        #Predicting the y values using the trained model on Xtest"
      ],
      "execution_count": 22,
      "outputs": []
    },
    {
      "cell_type": "code",
      "metadata": {
        "colab": {
          "base_uri": "https://localhost:8080/"
        },
        "id": "whSaRIN4Er9k",
        "outputId": "c6e97418-da71-48f3-f0d5-2e7d2f1a7456"
      },
      "source": [
        "metric = tf.keras.metrics.BinaryAccuracy()\n",
        "metric.update_state(Ytest,Ypred)\n",
        "print(f\"Accuracy of the model = {metric.result().numpy()}\""
      ],
      "execution_count": 23,
      "outputs": [
        {
          "output_type": "execute_result",
          "data": {
            "text/plain": [
              "0.8977467"
            ]
          },
          "metadata": {},
          "execution_count": 23
        }
      ]
    }
  ]
}