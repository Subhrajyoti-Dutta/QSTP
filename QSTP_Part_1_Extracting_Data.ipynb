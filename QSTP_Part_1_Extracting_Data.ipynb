{
  "nbformat": 4,
  "nbformat_minor": 0,
  "metadata": {
    "colab": {
      "name": "QSTP Part 1: Extracting Data.ipynb",
      "provenance": [],
      "collapsed_sections": [
        "1OGsc0ahAY7V"
      ],
      "authorship_tag": "ABX9TyOqU+V8bKhAOXyZDEU2+woh"
    },
    "language_info": {
      "name": "python"
    },
    "kernelspec": {
      "name": "python3",
      "display_name": "Python 3"
    }
  },
  "cells": [
    {
      "cell_type": "markdown",
      "metadata": {
        "id": "1OGsc0ahAY7V"
      },
      "source": [
        "#Import the Image Data"
      ]
    },
    {
      "cell_type": "code",
      "metadata": {
        "colab": {
          "base_uri": "https://localhost:8080/",
          "height": 396
        },
        "id": "EpXSM5BHD4y1",
        "outputId": "5bd91983-65b9-437f-bde2-9971759ff5f5"
      },
      "source": [
        "from google.colab import drive\n",
        "drive.mount('/content/drive')"
      ],
      "execution_count": 1,
      "outputs": [
        {
          "output_type": "stream",
          "text": [
            "Go to this URL in a browser: https://accounts.google.com/o/oauth2/auth?client_id=947318989803-6bn6qk8qdgf4n4g3pfee6491hc0brc4i.apps.googleusercontent.com&redirect_uri=urn%3aietf%3awg%3aoauth%3a2.0%3aoob&scope=email%20https%3a%2f%2fwww.googleapis.com%2fauth%2fdocs.test%20https%3a%2f%2fwww.googleapis.com%2fauth%2fdrive%20https%3a%2f%2fwww.googleapis.com%2fauth%2fdrive.photos.readonly%20https%3a%2f%2fwww.googleapis.com%2fauth%2fpeopleapi.readonly%20https%3a%2f%2fwww.googleapis.com%2fauth%2fdrive.activity.readonly%20https%3a%2f%2fwww.googleapis.com%2fauth%2fexperimentsandconfigs%20https%3a%2f%2fwww.googleapis.com%2fauth%2fphotos.native&response_type=code\n",
            "\n",
            "Enter your authorization code:\n",
            "\n"
          ],
          "name": "stdout"
        },
        {
          "output_type": "error",
          "ename": "ValueError",
          "evalue": "ignored",
          "traceback": [
            "\u001b[0;31m---------------------------------------------------------------------------\u001b[0m",
            "\u001b[0;31mValueError\u001b[0m                                Traceback (most recent call last)",
            "\u001b[0;32m<ipython-input-1-d5df0069828e>\u001b[0m in \u001b[0;36m<module>\u001b[0;34m()\u001b[0m\n\u001b[1;32m      1\u001b[0m \u001b[0;32mfrom\u001b[0m \u001b[0mgoogle\u001b[0m\u001b[0;34m.\u001b[0m\u001b[0mcolab\u001b[0m \u001b[0;32mimport\u001b[0m \u001b[0mdrive\u001b[0m\u001b[0;34m\u001b[0m\u001b[0;34m\u001b[0m\u001b[0m\n\u001b[0;32m----> 2\u001b[0;31m \u001b[0mdrive\u001b[0m\u001b[0;34m.\u001b[0m\u001b[0mmount\u001b[0m\u001b[0;34m(\u001b[0m\u001b[0;34m'/content/drive'\u001b[0m\u001b[0;34m)\u001b[0m\u001b[0;34m\u001b[0m\u001b[0;34m\u001b[0m\u001b[0m\n\u001b[0m",
            "\u001b[0;32m/usr/local/lib/python3.7/dist-packages/google/colab/drive.py\u001b[0m in \u001b[0;36mmount\u001b[0;34m(mountpoint, force_remount, timeout_ms, use_metadata_server)\u001b[0m\n\u001b[1;32m    265\u001b[0m       \u001b[0mwrote_to_fifo\u001b[0m \u001b[0;34m=\u001b[0m \u001b[0;32mTrue\u001b[0m\u001b[0;34m\u001b[0m\u001b[0;34m\u001b[0m\u001b[0m\n\u001b[1;32m    266\u001b[0m     \u001b[0;32melif\u001b[0m \u001b[0mcase\u001b[0m \u001b[0;34m==\u001b[0m \u001b[0;36m5\u001b[0m\u001b[0;34m:\u001b[0m\u001b[0;34m\u001b[0m\u001b[0;34m\u001b[0m\u001b[0m\n\u001b[0;32m--> 267\u001b[0;31m       \u001b[0;32mraise\u001b[0m \u001b[0mValueError\u001b[0m\u001b[0;34m(\u001b[0m\u001b[0;34m'mount failed: invalid oauth code'\u001b[0m\u001b[0;34m)\u001b[0m\u001b[0;34m\u001b[0m\u001b[0;34m\u001b[0m\u001b[0m\n\u001b[0m\u001b[1;32m    268\u001b[0m     \u001b[0;32melif\u001b[0m \u001b[0mcase\u001b[0m \u001b[0;34m==\u001b[0m \u001b[0;36m6\u001b[0m\u001b[0;34m:\u001b[0m\u001b[0;34m\u001b[0m\u001b[0;34m\u001b[0m\u001b[0m\n\u001b[1;32m    269\u001b[0m       \u001b[0;31m# Terminate the DriveFS binary before killing bash.\u001b[0m\u001b[0;34m\u001b[0m\u001b[0;34m\u001b[0m\u001b[0;34m\u001b[0m\u001b[0m\n",
            "\u001b[0;31mValueError\u001b[0m: mount failed: invalid oauth code"
          ]
        }
      ]
    },
    {
      "cell_type": "code",
      "metadata": {
        "id": "hHCFjtcNEUw6"
      },
      "source": [
        "import os\n",
        "import numpy as np\n",
        "from PIL import Image\n",
        "import tensorflow as tf"
      ],
      "execution_count": null,
      "outputs": []
    },
    {
      "cell_type": "code",
      "metadata": {
        "id": "LaK3uj7DFC_d"
      },
      "source": [
        "Xtrain = tf.zeros((5000,96,96,3),dtype=tf.uint8)\n",
        "Xtrain.shape"
      ],
      "execution_count": null,
      "outputs": []
    },
    {
      "cell_type": "code",
      "metadata": {
        "id": "HSD247lFH_pG"
      },
      "source": [
        "Ytrain = tf.zeros((5000,10),dtype=tf.int32)\n",
        "Ytrain.shape"
      ],
      "execution_count": null,
      "outputs": []
    },
    {
      "cell_type": "code",
      "metadata": {
        "id": "8c4x85LoD5-z"
      },
      "source": [
        "path_to_train_imgs = r\"/content/drive/MyDrive/ML-AI/QSTP/train\""
      ],
      "execution_count": null,
      "outputs": []
    },
    {
      "cell_type": "code",
      "metadata": {
        "id": "PXQXKE87EpNe"
      },
      "source": [
        "def extract_img(fl): \n",
        "    img = Image.open(fl)\n",
        "    return tf.convert_to_tensor(img, dtype = tf.uint8)\n",
        "\n",
        "num_of_cat = 10\n",
        "# prev_num_of_datapts = 0\n",
        "# num_of_datapts = 0\n",
        "j = 0\n",
        "for i in range(1,num_of_cat+1):\n",
        "    print(i)\n",
        "    img_fold = path_to_train_imgs + \"/\" + str(i)\n",
        "    img_names = sorted(os.listdir(img_fold))\n",
        "    img_dir = list(map(lambda x : img_fold + \"/\" + x, img_names))\n",
        "    for img in img_dir:\n",
        "        Xtrain[j,:,:,:] = extract_img(img)\n",
        "        Ytrain[j,i-1] = 1\n",
        "        j+=1"
      ],
      "execution_count": null,
      "outputs": []
    },
    {
      "cell_type": "code",
      "metadata": {
        "id": "TueqhkHH3UMJ"
      },
      "source": [
        "indices = tf.random.shuffle(tf.range(Xtrain.shape[0]))\n",
        "Xtrain = tf.gather(Xtrain,indices)\n",
        "Ytrain = tf.gather(Ytrain,indices)"
      ],
      "execution_count": null,
      "outputs": []
    },
    {
      "cell_type": "code",
      "metadata": {
        "id": "XF1712S8laDR"
      },
      "source": [
        "print(Xtrain.shape)"
      ],
      "execution_count": null,
      "outputs": []
    },
    {
      "cell_type": "code",
      "metadata": {
        "id": "L2AZad4q_eu2"
      },
      "source": [
        "print(Ytrain.shape)"
      ],
      "execution_count": null,
      "outputs": []
    },
    {
      "cell_type": "code",
      "metadata": {
        "id": "Yt6izB7R06P8"
      },
      "source": [
        "Xtest = tf.zeros((8000,96,96,3),dtype=tf.uint8)\n",
        "Xtest.shape"
      ],
      "execution_count": null,
      "outputs": []
    },
    {
      "cell_type": "code",
      "metadata": {
        "id": "YaMVD_ZB0_CA"
      },
      "source": [
        "Ytest = tf.zeros((8000,10),dtype=tf.int32)\n",
        "Ytest.shape"
      ],
      "execution_count": null,
      "outputs": []
    },
    {
      "cell_type": "code",
      "metadata": {
        "id": "peqfk9aB1OeQ"
      },
      "source": [
        "path_to_test_imgs = r\"/content/drive/MyDrive/ML-AI/QSTP/test\""
      ],
      "execution_count": null,
      "outputs": []
    },
    {
      "cell_type": "code",
      "metadata": {
        "id": "M7HBzmPu1U24"
      },
      "source": [
        "num_of_cat = 10\n",
        "j = 0\n",
        "for i in range(1,num_of_cat+1):\n",
        "    print(i)\n",
        "    img_fold = path_to_test_imgs + \"/\" + str(i)\n",
        "    img_names = sorted(os.listdir(img_fold))\n",
        "    img_dir = list(map(lambda x : img_fold + \"/\" + x, img_names))\n",
        "    for img in img_dir:\n",
        "        Xtrain[j,:,:,:] = extract_img(img)\n",
        "        Ytrain[j,i-1] = 1\n",
        "        j+=1"
      ],
      "execution_count": null,
      "outputs": []
    },
    {
      "cell_type": "code",
      "metadata": {
        "id": "0_vGtDy83rBc"
      },
      "source": [
        "indices = tf.random.shuffle(tf.range(Xtest.shape[0]))\n",
        "Xtest = tf.gather(Xtest,indices)\n",
        "Ytest = tf.gather(Ytest,indices)"
      ],
      "execution_count": null,
      "outputs": []
    },
    {
      "cell_type": "code",
      "metadata": {
        "id": "y_OXP2oI1jpa"
      },
      "source": [
        "print(Xtest.shape)"
      ],
      "execution_count": null,
      "outputs": []
    },
    {
      "cell_type": "code",
      "metadata": {
        "id": "6dQqfzr21mgL"
      },
      "source": [
        "print(Ytest.shape)"
      ],
      "execution_count": null,
      "outputs": []
    },
    {
      "cell_type": "markdown",
      "metadata": {
        "id": "ZKqSO4i4ECs-"
      },
      "source": [
        "#Save the data as .npz file for future use"
      ]
    },
    {
      "cell_type": "code",
      "metadata": {
        "id": "qsmb580z61Jf"
      },
      "source": [
        "np.savez(\"STL10-Data\",Xtrain = Xtrain, Xtest = Xtest, Ytrain = Ytrain, Ytest = Ytest)"
      ],
      "execution_count": null,
      "outputs": []
    },
    {
      "cell_type": "code",
      "metadata": {
        "id": "Y8Wb4TTX6E7u"
      },
      "source": [
        "import shutil"
      ],
      "execution_count": null,
      "outputs": []
    },
    {
      "cell_type": "code",
      "metadata": {
        "id": "fBZXV6pp26aO"
      },
      "source": [
        "shutil.copy(\"/content/STL10-Data.npz\",\"/content/drive/MyDrive/ML-AI/QSTP/Part-1\")"
      ],
      "execution_count": null,
      "outputs": []
    },
    {
      "cell_type": "code",
      "metadata": {
        "id": "20OCBDiODUom"
      },
      "source": [
        ""
      ],
      "execution_count": null,
      "outputs": []
    }
  ]
}